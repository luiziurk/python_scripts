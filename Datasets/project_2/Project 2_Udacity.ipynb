{
 "cells": [
  {
   "cell_type": "markdown",
   "id": "2c9c68ae",
   "metadata": {},
   "source": [
    "# Project: What factors influence a patient to show up for their scheduled appointment?"
   ]
  },
  {
   "cell_type": "markdown",
   "id": "e20cc57d",
   "metadata": {},
   "source": [
    "## Table of Contents\n",
    "<ul>\n",
    "<li><a href=\"#dw\">Data Wrangling</a></li>\n",
    "<li><a href=\"#clean\">Data Cleaning</a></li>\n",
    "<li><a href=\"#eda\">Exploratory Data Analysis</a></li>\n",
    "<li><a href=\"#conclusions\">Conclusions</a></li>\n",
    "</ul>"
   ]
  },
  {
   "cell_type": "markdown",
   "id": "46c309aa",
   "metadata": {},
   "source": [
    "### Importing Libraries"
   ]
  },
  {
   "cell_type": "code",
   "execution_count": 3,
   "id": "b51fdc5f",
   "metadata": {},
   "outputs": [],
   "source": [
    "import pandas as pd\n",
    "import numpy as np\n",
    "#import seaborn as sns\n",
    "from matplotlib import pyplot as plt\n",
    "from datetime import datetime, timedelta, timezone\n",
    "import math\n",
    "%matplotlib inline"
   ]
  },
  {
   "cell_type": "markdown",
   "id": "ada2cd64",
   "metadata": {},
   "source": [
    "### Creating functions that will help in the data investigation"
   ]
  },
  {
   "cell_type": "code",
   "execution_count": 4,
   "id": "999f1d6f",
   "metadata": {},
   "outputs": [],
   "source": [
    "def hist_comp_prop(group: str,df1,df2, title:str):\n",
    "    # Compares all the numeric columns of two dataframes and plot a proportional and overlapped histogram\n",
    "    \n",
    "    \n",
    "    try:\n",
    "        df1.columns.all() == df2.columns.all()\n",
    "    except:\n",
    "        print(\"Dataframes must have the same column names and positions. Prepare data before use this function\")\n",
    "    \n",
    "    df_full = pd.concat([df1,df2])\n",
    "    fig = plt.figure(figsize = [20,20])\n",
    "    elem = sorted(set(df_full[group]))\n",
    "    a = 1\n",
    "    alpha = {}\n",
    "    for e in elem:\n",
    "        alpha[e] = a\n",
    "        a = a/2\n",
    "    \n",
    "    #Selecting only the numeric columns \n",
    "    col = df1.select_dtypes(include=np.number).columns\n",
    "    \n",
    "    #Identifying the matrix plot size\n",
    "    c = len(col)\n",
    "    root = math.sqrt(c)\n",
    "    check_size = False\n",
    "    while check_size == False:\n",
    "        if int(root+0.5)**2 == c:\n",
    "            check_size = True\n",
    "            s = math.sqrt(c)\n",
    "        else:\n",
    "            c += 1\n",
    "            root = math.sqrt(c)\n",
    "    matrix_fig = [int(s),int(s)]\n",
    "    \n",
    "    for ind, column in enumerate(col):\n",
    "        #Creating the bins based on the combination of both df\n",
    "        bins = np.linspace(df_full[column].min(), df_full[column].max(), 10)\n",
    "        \n",
    "        plt.subplot(matrix_fig[0], matrix_fig[1], ind+1)\n",
    "        subNum = 0\n",
    "        for ind, grp in df_full.groupby(group):\n",
    "            grp[column].hist(bins=bins, density = True, label = ind, alpha = alpha[list(alpha)[subNum]])\n",
    "            subNum +=1\n",
    "        plt.title(column)\n",
    "        plt.legend()\n",
    "    fig.suptitle(title, fontsize=30)\n",
    "    \n",
    "def class_plot (df1, df2,label1, label2,column):\n",
    "    # Compares one class column of two dataframes bringing a bar chart of each df \n",
    "    try:\n",
    "        df1.columns.all() == df2.columns.all()\n",
    "    except:\n",
    "        print(\"Dataframes must have the same column names and positions. Prepare data before use this function\")\n",
    "    fig = plt.figure(figsize = [10,5])\n",
    "    # Merging both df to collect the total number by group\n",
    "    df_full = pd.concat([df1,df2])\n",
    "    df_full_grouped = df_full[column].value_counts().sort_index()\n",
    "    bins = df_full_grouped.index.tolist()\n",
    "    # Grouping the df by the desired field\n",
    "    h1 = (df1[column].value_counts().sort_index())\n",
    "    h2 = (df2[column].value_counts().sort_index())\n",
    "    # Calculate the proportions to level up the df\n",
    "    h1_prop = np.true_divide(h1, df_full_grouped)\n",
    "    h2_prop = np.true_divide(h2, df_full_grouped)\n",
    "    cap = max(np.append(h1_prop, h2_prop))*1.1\n",
    "    fig_title = f\"Comparison of {column} for {label1} and {label2} Groups\"\n",
    "    \n",
    "    plt.subplot(1, 2, 1)\n",
    "    plt.ylim(0,cap)\n",
    "    h1_prop.plot(kind='bar', title = label1)\n",
    "    plt.subplot(1, 2, 2)\n",
    "    plt.ylim(0,cap)\n",
    "    h2_prop.plot(kind='bar', title = label2)\n",
    "    fig.suptitle(fig_title, fontsize=30, y = 1.1)"
   ]
  },
  {
   "cell_type": "markdown",
   "id": "328d25e7",
   "metadata": {},
   "source": [
    "<a id='intro'></a>\n",
    "# Data Wrangling"
   ]
  },
  {
   "cell_type": "code",
   "execution_count": 5,
   "id": "a544d201",
   "metadata": {},
   "outputs": [
    {
     "data": {
      "text/html": [
       "<div>\n",
       "<style scoped>\n",
       "    .dataframe tbody tr th:only-of-type {\n",
       "        vertical-align: middle;\n",
       "    }\n",
       "\n",
       "    .dataframe tbody tr th {\n",
       "        vertical-align: top;\n",
       "    }\n",
       "\n",
       "    .dataframe thead th {\n",
       "        text-align: right;\n",
       "    }\n",
       "</style>\n",
       "<table border=\"1\" class=\"dataframe\">\n",
       "  <thead>\n",
       "    <tr style=\"text-align: right;\">\n",
       "      <th></th>\n",
       "      <th>PatientId</th>\n",
       "      <th>AppointmentID</th>\n",
       "      <th>Gender</th>\n",
       "      <th>ScheduledDay</th>\n",
       "      <th>AppointmentDay</th>\n",
       "      <th>Age</th>\n",
       "      <th>Neighbourhood</th>\n",
       "      <th>Scholarship</th>\n",
       "      <th>Hipertension</th>\n",
       "      <th>Diabetes</th>\n",
       "      <th>Alcoholism</th>\n",
       "      <th>Handcap</th>\n",
       "      <th>SMS_received</th>\n",
       "      <th>No-show</th>\n",
       "    </tr>\n",
       "  </thead>\n",
       "  <tbody>\n",
       "    <tr>\n",
       "      <th>0</th>\n",
       "      <td>2.987250e+13</td>\n",
       "      <td>5642903</td>\n",
       "      <td>F</td>\n",
       "      <td>2016-04-29T18:38:08Z</td>\n",
       "      <td>2016-04-29T00:00:00Z</td>\n",
       "      <td>62</td>\n",
       "      <td>JARDIM DA PENHA</td>\n",
       "      <td>0</td>\n",
       "      <td>1</td>\n",
       "      <td>0</td>\n",
       "      <td>0</td>\n",
       "      <td>0</td>\n",
       "      <td>0</td>\n",
       "      <td>No</td>\n",
       "    </tr>\n",
       "    <tr>\n",
       "      <th>1</th>\n",
       "      <td>5.589978e+14</td>\n",
       "      <td>5642503</td>\n",
       "      <td>M</td>\n",
       "      <td>2016-04-29T16:08:27Z</td>\n",
       "      <td>2016-04-29T00:00:00Z</td>\n",
       "      <td>56</td>\n",
       "      <td>JARDIM DA PENHA</td>\n",
       "      <td>0</td>\n",
       "      <td>0</td>\n",
       "      <td>0</td>\n",
       "      <td>0</td>\n",
       "      <td>0</td>\n",
       "      <td>0</td>\n",
       "      <td>No</td>\n",
       "    </tr>\n",
       "    <tr>\n",
       "      <th>2</th>\n",
       "      <td>4.262962e+12</td>\n",
       "      <td>5642549</td>\n",
       "      <td>F</td>\n",
       "      <td>2016-04-29T16:19:04Z</td>\n",
       "      <td>2016-04-29T00:00:00Z</td>\n",
       "      <td>62</td>\n",
       "      <td>MATA DA PRAIA</td>\n",
       "      <td>0</td>\n",
       "      <td>0</td>\n",
       "      <td>0</td>\n",
       "      <td>0</td>\n",
       "      <td>0</td>\n",
       "      <td>0</td>\n",
       "      <td>No</td>\n",
       "    </tr>\n",
       "    <tr>\n",
       "      <th>3</th>\n",
       "      <td>8.679512e+11</td>\n",
       "      <td>5642828</td>\n",
       "      <td>F</td>\n",
       "      <td>2016-04-29T17:29:31Z</td>\n",
       "      <td>2016-04-29T00:00:00Z</td>\n",
       "      <td>8</td>\n",
       "      <td>PONTAL DE CAMBURI</td>\n",
       "      <td>0</td>\n",
       "      <td>0</td>\n",
       "      <td>0</td>\n",
       "      <td>0</td>\n",
       "      <td>0</td>\n",
       "      <td>0</td>\n",
       "      <td>No</td>\n",
       "    </tr>\n",
       "    <tr>\n",
       "      <th>4</th>\n",
       "      <td>8.841186e+12</td>\n",
       "      <td>5642494</td>\n",
       "      <td>F</td>\n",
       "      <td>2016-04-29T16:07:23Z</td>\n",
       "      <td>2016-04-29T00:00:00Z</td>\n",
       "      <td>56</td>\n",
       "      <td>JARDIM DA PENHA</td>\n",
       "      <td>0</td>\n",
       "      <td>1</td>\n",
       "      <td>1</td>\n",
       "      <td>0</td>\n",
       "      <td>0</td>\n",
       "      <td>0</td>\n",
       "      <td>No</td>\n",
       "    </tr>\n",
       "  </tbody>\n",
       "</table>\n",
       "</div>"
      ],
      "text/plain": [
       "      PatientId  AppointmentID Gender          ScheduledDay  \\\n",
       "0  2.987250e+13        5642903      F  2016-04-29T18:38:08Z   \n",
       "1  5.589978e+14        5642503      M  2016-04-29T16:08:27Z   \n",
       "2  4.262962e+12        5642549      F  2016-04-29T16:19:04Z   \n",
       "3  8.679512e+11        5642828      F  2016-04-29T17:29:31Z   \n",
       "4  8.841186e+12        5642494      F  2016-04-29T16:07:23Z   \n",
       "\n",
       "         AppointmentDay  Age      Neighbourhood  Scholarship  Hipertension  \\\n",
       "0  2016-04-29T00:00:00Z   62    JARDIM DA PENHA            0             1   \n",
       "1  2016-04-29T00:00:00Z   56    JARDIM DA PENHA            0             0   \n",
       "2  2016-04-29T00:00:00Z   62      MATA DA PRAIA            0             0   \n",
       "3  2016-04-29T00:00:00Z    8  PONTAL DE CAMBURI            0             0   \n",
       "4  2016-04-29T00:00:00Z   56    JARDIM DA PENHA            0             1   \n",
       "\n",
       "   Diabetes  Alcoholism  Handcap  SMS_received No-show  \n",
       "0         0           0        0             0      No  \n",
       "1         0           0        0             0      No  \n",
       "2         0           0        0             0      No  \n",
       "3         0           0        0             0      No  \n",
       "4         1           0        0             0      No  "
      ]
     },
     "execution_count": 5,
     "metadata": {},
     "output_type": "execute_result"
    }
   ],
   "source": [
    "# Loading Data\n",
    "df_noshow = pd.read_csv(\"noshowappointments-kagglev2-may-2016.csv\")\n",
    "df_noshow.head()"
   ]
  },
  {
   "cell_type": "code",
   "execution_count": 6,
   "id": "a1b1e076",
   "metadata": {},
   "outputs": [
    {
     "name": "stdout",
     "output_type": "stream",
     "text": [
      "<class 'pandas.core.frame.DataFrame'>\n",
      "RangeIndex: 110527 entries, 0 to 110526\n",
      "Data columns (total 14 columns):\n",
      " #   Column          Non-Null Count   Dtype  \n",
      "---  ------          --------------   -----  \n",
      " 0   PatientId       110527 non-null  float64\n",
      " 1   AppointmentID   110527 non-null  int64  \n",
      " 2   Gender          110527 non-null  object \n",
      " 3   ScheduledDay    110527 non-null  object \n",
      " 4   AppointmentDay  110527 non-null  object \n",
      " 5   Age             110527 non-null  int64  \n",
      " 6   Neighbourhood   110527 non-null  object \n",
      " 7   Scholarship     110527 non-null  int64  \n",
      " 8   Hipertension    110527 non-null  int64  \n",
      " 9   Diabetes        110527 non-null  int64  \n",
      " 10  Alcoholism      110527 non-null  int64  \n",
      " 11  Handcap         110527 non-null  int64  \n",
      " 12  SMS_received    110527 non-null  int64  \n",
      " 13  No-show         110527 non-null  object \n",
      "dtypes: float64(1), int64(8), object(5)\n",
      "memory usage: 11.8+ MB\n"
     ]
    }
   ],
   "source": [
    "# Checking whether the columns meet the datatype\n",
    "df_noshow.info()"
   ]
  },
  {
   "cell_type": "markdown",
   "id": "90737684",
   "metadata": {},
   "source": [
    "We see that the columns \"ScheduledDay\" and \"AppointmentDay\" need to be converted into a date and time type, also, there are  typo error in the columns \"Handcap\" and \"Hipertension\" and the column \"No-show\", the way it is can not be properly used with some pandas functions. \n",
    "Therefore, let's fix these problems and lower case all the columns to standardize the dataframe."
   ]
  },
  {
   "cell_type": "markdown",
   "id": "b9a8cb9f",
   "metadata": {},
   "source": [
    "#### Fixing typos and lowering case the column names"
   ]
  },
  {
   "cell_type": "code",
   "execution_count": 7,
   "id": "965eab0d",
   "metadata": {},
   "outputs": [],
   "source": [
    "df_noshow.rename(columns = {\"PatientId\": \"patient_id\", \"AppointmentID\": \"appointment_id\", \"AppointmentDay\": \"appointment_day\",\"Handcap\": \"handicap\", \"No-show\": \"no_show\", \"Hipertension\": \"hypertension\", \"ScheduledDay\": \"scheduled_day\"}, inplace = True)"
   ]
  },
  {
   "cell_type": "code",
   "execution_count": 8,
   "id": "14bdffdb",
   "metadata": {},
   "outputs": [
    {
     "data": {
      "text/html": [
       "<div>\n",
       "<style scoped>\n",
       "    .dataframe tbody tr th:only-of-type {\n",
       "        vertical-align: middle;\n",
       "    }\n",
       "\n",
       "    .dataframe tbody tr th {\n",
       "        vertical-align: top;\n",
       "    }\n",
       "\n",
       "    .dataframe thead th {\n",
       "        text-align: right;\n",
       "    }\n",
       "</style>\n",
       "<table border=\"1\" class=\"dataframe\">\n",
       "  <thead>\n",
       "    <tr style=\"text-align: right;\">\n",
       "      <th></th>\n",
       "      <th>patient_id</th>\n",
       "      <th>appointment_id</th>\n",
       "      <th>gender</th>\n",
       "      <th>scheduled_day</th>\n",
       "      <th>appointment_day</th>\n",
       "      <th>age</th>\n",
       "      <th>neighbourhood</th>\n",
       "      <th>scholarship</th>\n",
       "      <th>hypertension</th>\n",
       "      <th>diabetes</th>\n",
       "      <th>alcoholism</th>\n",
       "      <th>handicap</th>\n",
       "      <th>sms_received</th>\n",
       "      <th>no_show</th>\n",
       "    </tr>\n",
       "  </thead>\n",
       "  <tbody>\n",
       "    <tr>\n",
       "      <th>0</th>\n",
       "      <td>2.987250e+13</td>\n",
       "      <td>5642903</td>\n",
       "      <td>F</td>\n",
       "      <td>2016-04-29T18:38:08Z</td>\n",
       "      <td>2016-04-29T00:00:00Z</td>\n",
       "      <td>62</td>\n",
       "      <td>JARDIM DA PENHA</td>\n",
       "      <td>0</td>\n",
       "      <td>1</td>\n",
       "      <td>0</td>\n",
       "      <td>0</td>\n",
       "      <td>0</td>\n",
       "      <td>0</td>\n",
       "      <td>No</td>\n",
       "    </tr>\n",
       "    <tr>\n",
       "      <th>1</th>\n",
       "      <td>5.589978e+14</td>\n",
       "      <td>5642503</td>\n",
       "      <td>M</td>\n",
       "      <td>2016-04-29T16:08:27Z</td>\n",
       "      <td>2016-04-29T00:00:00Z</td>\n",
       "      <td>56</td>\n",
       "      <td>JARDIM DA PENHA</td>\n",
       "      <td>0</td>\n",
       "      <td>0</td>\n",
       "      <td>0</td>\n",
       "      <td>0</td>\n",
       "      <td>0</td>\n",
       "      <td>0</td>\n",
       "      <td>No</td>\n",
       "    </tr>\n",
       "    <tr>\n",
       "      <th>2</th>\n",
       "      <td>4.262962e+12</td>\n",
       "      <td>5642549</td>\n",
       "      <td>F</td>\n",
       "      <td>2016-04-29T16:19:04Z</td>\n",
       "      <td>2016-04-29T00:00:00Z</td>\n",
       "      <td>62</td>\n",
       "      <td>MATA DA PRAIA</td>\n",
       "      <td>0</td>\n",
       "      <td>0</td>\n",
       "      <td>0</td>\n",
       "      <td>0</td>\n",
       "      <td>0</td>\n",
       "      <td>0</td>\n",
       "      <td>No</td>\n",
       "    </tr>\n",
       "    <tr>\n",
       "      <th>3</th>\n",
       "      <td>8.679512e+11</td>\n",
       "      <td>5642828</td>\n",
       "      <td>F</td>\n",
       "      <td>2016-04-29T17:29:31Z</td>\n",
       "      <td>2016-04-29T00:00:00Z</td>\n",
       "      <td>8</td>\n",
       "      <td>PONTAL DE CAMBURI</td>\n",
       "      <td>0</td>\n",
       "      <td>0</td>\n",
       "      <td>0</td>\n",
       "      <td>0</td>\n",
       "      <td>0</td>\n",
       "      <td>0</td>\n",
       "      <td>No</td>\n",
       "    </tr>\n",
       "    <tr>\n",
       "      <th>4</th>\n",
       "      <td>8.841186e+12</td>\n",
       "      <td>5642494</td>\n",
       "      <td>F</td>\n",
       "      <td>2016-04-29T16:07:23Z</td>\n",
       "      <td>2016-04-29T00:00:00Z</td>\n",
       "      <td>56</td>\n",
       "      <td>JARDIM DA PENHA</td>\n",
       "      <td>0</td>\n",
       "      <td>1</td>\n",
       "      <td>1</td>\n",
       "      <td>0</td>\n",
       "      <td>0</td>\n",
       "      <td>0</td>\n",
       "      <td>No</td>\n",
       "    </tr>\n",
       "  </tbody>\n",
       "</table>\n",
       "</div>"
      ],
      "text/plain": [
       "     patient_id  appointment_id gender         scheduled_day  \\\n",
       "0  2.987250e+13         5642903      F  2016-04-29T18:38:08Z   \n",
       "1  5.589978e+14         5642503      M  2016-04-29T16:08:27Z   \n",
       "2  4.262962e+12         5642549      F  2016-04-29T16:19:04Z   \n",
       "3  8.679512e+11         5642828      F  2016-04-29T17:29:31Z   \n",
       "4  8.841186e+12         5642494      F  2016-04-29T16:07:23Z   \n",
       "\n",
       "        appointment_day  age      neighbourhood  scholarship  hypertension  \\\n",
       "0  2016-04-29T00:00:00Z   62    JARDIM DA PENHA            0             1   \n",
       "1  2016-04-29T00:00:00Z   56    JARDIM DA PENHA            0             0   \n",
       "2  2016-04-29T00:00:00Z   62      MATA DA PRAIA            0             0   \n",
       "3  2016-04-29T00:00:00Z    8  PONTAL DE CAMBURI            0             0   \n",
       "4  2016-04-29T00:00:00Z   56    JARDIM DA PENHA            0             1   \n",
       "\n",
       "   diabetes  alcoholism  handicap  sms_received no_show  \n",
       "0         0           0         0             0      No  \n",
       "1         0           0         0             0      No  \n",
       "2         0           0         0             0      No  \n",
       "3         0           0         0             0      No  \n",
       "4         1           0         0             0      No  "
      ]
     },
     "execution_count": 8,
     "metadata": {},
     "output_type": "execute_result"
    }
   ],
   "source": [
    "df_noshow.columns = df_noshow.columns.str.lower()\n",
    "df_noshow.head()"
   ]
  },
  {
   "cell_type": "markdown",
   "id": "75dd2333",
   "metadata": {},
   "source": [
    "#### Changing columns data type into a more suitable one"
   ]
  },
  {
   "cell_type": "code",
   "execution_count": 9,
   "id": "d3b74465",
   "metadata": {},
   "outputs": [],
   "source": [
    "df_noshow[\"scheduled_day\"] = pd.to_datetime(df_noshow[\"scheduled_day\"]).dt.tz_localize(None)\n",
    "df_noshow[\"appointment_day\"] = pd.to_datetime(df_noshow[\"appointment_day\"]).dt.tz_localize(None)\n",
    "df_noshow[\"patient_id\"] = df_noshow['patient_id'].astype('int64')"
   ]
  },
  {
   "cell_type": "code",
   "execution_count": 10,
   "id": "860347c1",
   "metadata": {},
   "outputs": [
    {
     "name": "stdout",
     "output_type": "stream",
     "text": [
      "<class 'pandas.core.frame.DataFrame'>\n",
      "RangeIndex: 110527 entries, 0 to 110526\n",
      "Data columns (total 15 columns):\n",
      " #   Column               Non-Null Count   Dtype         \n",
      "---  ------               --------------   -----         \n",
      " 0   patient_id           110527 non-null  int64         \n",
      " 1   appointment_id       110527 non-null  int64         \n",
      " 2   gender               110527 non-null  object        \n",
      " 3   scheduled_day        110527 non-null  datetime64[ns]\n",
      " 4   appointment_day      110527 non-null  datetime64[ns]\n",
      " 5   age                  110527 non-null  int64         \n",
      " 6   neighbourhood        110527 non-null  object        \n",
      " 7   scholarship          110527 non-null  int64         \n",
      " 8   hypertension         110527 non-null  int64         \n",
      " 9   diabetes             110527 non-null  int64         \n",
      " 10  alcoholism           110527 non-null  int64         \n",
      " 11  handicap             110527 non-null  int64         \n",
      " 12  sms_received         110527 non-null  int64         \n",
      " 13  no_show              110527 non-null  object        \n",
      " 14  days_to_appointment  110527 non-null  int64         \n",
      "dtypes: datetime64[ns](2), int64(10), object(3)\n",
      "memory usage: 12.6+ MB\n"
     ]
    }
   ],
   "source": [
    "# Truncating the scheduled_day field to fetch the number of days between appointment and scheduled dates. (this field can be very helpful)\n",
    "df_noshow[\"scheduled_date\"] = df_noshow[\"scheduled_day\"].dt.date\n",
    "df_noshow[\"scheduled_date\"] = pd.to_datetime(df_noshow[\"scheduled_date\"]).dt.tz_localize(None)\n",
    "df_noshow[\"days_to_appointment\"] = (df_noshow['appointment_day'] - df_noshow['scheduled_date']).dt.days\n",
    "df_noshow.drop(columns = [\"scheduled_date\"], inplace = True) \n",
    "df_noshow.info();"
   ]
  },
  {
   "cell_type": "code",
   "execution_count": 11,
   "id": "0feedada",
   "metadata": {},
   "outputs": [
    {
     "data": {
      "text/plain": [
       "patient_id              62299\n",
       "appointment_id         110527\n",
       "gender                      2\n",
       "scheduled_day          103549\n",
       "appointment_day            27\n",
       "age                       104\n",
       "neighbourhood              81\n",
       "scholarship                 2\n",
       "hypertension                2\n",
       "diabetes                    2\n",
       "alcoholism                  2\n",
       "handicap                    5\n",
       "sms_received                2\n",
       "no_show                     2\n",
       "days_to_appointment       131\n",
       "dtype: int64"
      ]
     },
     "execution_count": 11,
     "metadata": {},
     "output_type": "execute_result"
    }
   ],
   "source": [
    "# Checking the amount of unique values we have in each column\n",
    "df_noshow.nunique() "
   ]
  },
  {
   "cell_type": "markdown",
   "id": "48067321",
   "metadata": {},
   "source": [
    "Here is an interesting thing: There are 5 classes of handicap. Since there is no reference to the meaning of each reference, let's turn this column into a boolean value, like gender or scholarship."
   ]
  },
  {
   "cell_type": "code",
   "execution_count": 12,
   "id": "c8968928",
   "metadata": {},
   "outputs": [
    {
     "data": {
      "text/plain": [
       "array([0, 1], dtype=int64)"
      ]
     },
     "execution_count": 12,
     "metadata": {},
     "output_type": "execute_result"
    }
   ],
   "source": [
    "df_noshow['handicap'] = df_noshow['handicap'].apply(lambda x: 1 if x!= 0 else x)\n",
    "df_noshow.handicap.unique() "
   ]
  },
  {
   "cell_type": "code",
   "execution_count": 13,
   "id": "3b8d849e",
   "metadata": {},
   "outputs": [
    {
     "data": {
      "text/html": [
       "<div>\n",
       "<style scoped>\n",
       "    .dataframe tbody tr th:only-of-type {\n",
       "        vertical-align: middle;\n",
       "    }\n",
       "\n",
       "    .dataframe tbody tr th {\n",
       "        vertical-align: top;\n",
       "    }\n",
       "\n",
       "    .dataframe thead th {\n",
       "        text-align: right;\n",
       "    }\n",
       "</style>\n",
       "<table border=\"1\" class=\"dataframe\">\n",
       "  <thead>\n",
       "    <tr style=\"text-align: right;\">\n",
       "      <th></th>\n",
       "      <th>patient_id</th>\n",
       "      <th>appointment_id</th>\n",
       "      <th>gender</th>\n",
       "      <th>scheduled_day</th>\n",
       "      <th>appointment_day</th>\n",
       "      <th>age</th>\n",
       "      <th>neighbourhood</th>\n",
       "      <th>scholarship</th>\n",
       "      <th>hypertension</th>\n",
       "      <th>diabetes</th>\n",
       "      <th>alcoholism</th>\n",
       "      <th>handicap</th>\n",
       "      <th>sms_received</th>\n",
       "      <th>no_show</th>\n",
       "      <th>days_to_appointment</th>\n",
       "    </tr>\n",
       "  </thead>\n",
       "  <tbody>\n",
       "    <tr>\n",
       "      <th>27033</th>\n",
       "      <td>7839272661752</td>\n",
       "      <td>5679978</td>\n",
       "      <td>M</td>\n",
       "      <td>2016-05-10 10:51:53</td>\n",
       "      <td>2016-05-09</td>\n",
       "      <td>38</td>\n",
       "      <td>RESISTÊNCIA</td>\n",
       "      <td>0</td>\n",
       "      <td>0</td>\n",
       "      <td>0</td>\n",
       "      <td>0</td>\n",
       "      <td>1</td>\n",
       "      <td>0</td>\n",
       "      <td>Yes</td>\n",
       "      <td>-1</td>\n",
       "    </tr>\n",
       "    <tr>\n",
       "      <th>55226</th>\n",
       "      <td>7896293967868</td>\n",
       "      <td>5715660</td>\n",
       "      <td>F</td>\n",
       "      <td>2016-05-18 14:50:41</td>\n",
       "      <td>2016-05-17</td>\n",
       "      <td>19</td>\n",
       "      <td>SANTO ANTÔNIO</td>\n",
       "      <td>0</td>\n",
       "      <td>0</td>\n",
       "      <td>0</td>\n",
       "      <td>0</td>\n",
       "      <td>1</td>\n",
       "      <td>0</td>\n",
       "      <td>Yes</td>\n",
       "      <td>-1</td>\n",
       "    </tr>\n",
       "    <tr>\n",
       "      <th>64175</th>\n",
       "      <td>24252258389979</td>\n",
       "      <td>5664962</td>\n",
       "      <td>F</td>\n",
       "      <td>2016-05-05 13:43:58</td>\n",
       "      <td>2016-05-04</td>\n",
       "      <td>22</td>\n",
       "      <td>CONSOLAÇÃO</td>\n",
       "      <td>0</td>\n",
       "      <td>0</td>\n",
       "      <td>0</td>\n",
       "      <td>0</td>\n",
       "      <td>0</td>\n",
       "      <td>0</td>\n",
       "      <td>Yes</td>\n",
       "      <td>-1</td>\n",
       "    </tr>\n",
       "    <tr>\n",
       "      <th>71533</th>\n",
       "      <td>998231581612122</td>\n",
       "      <td>5686628</td>\n",
       "      <td>F</td>\n",
       "      <td>2016-05-11 13:49:20</td>\n",
       "      <td>2016-05-05</td>\n",
       "      <td>81</td>\n",
       "      <td>SANTO ANTÔNIO</td>\n",
       "      <td>0</td>\n",
       "      <td>0</td>\n",
       "      <td>0</td>\n",
       "      <td>0</td>\n",
       "      <td>0</td>\n",
       "      <td>0</td>\n",
       "      <td>Yes</td>\n",
       "      <td>-6</td>\n",
       "    </tr>\n",
       "    <tr>\n",
       "      <th>72362</th>\n",
       "      <td>3787481966821</td>\n",
       "      <td>5655637</td>\n",
       "      <td>M</td>\n",
       "      <td>2016-05-04 06:50:57</td>\n",
       "      <td>2016-05-03</td>\n",
       "      <td>7</td>\n",
       "      <td>TABUAZEIRO</td>\n",
       "      <td>0</td>\n",
       "      <td>0</td>\n",
       "      <td>0</td>\n",
       "      <td>0</td>\n",
       "      <td>0</td>\n",
       "      <td>0</td>\n",
       "      <td>Yes</td>\n",
       "      <td>-1</td>\n",
       "    </tr>\n",
       "  </tbody>\n",
       "</table>\n",
       "</div>"
      ],
      "text/plain": [
       "            patient_id  appointment_id gender       scheduled_day  \\\n",
       "27033    7839272661752         5679978      M 2016-05-10 10:51:53   \n",
       "55226    7896293967868         5715660      F 2016-05-18 14:50:41   \n",
       "64175   24252258389979         5664962      F 2016-05-05 13:43:58   \n",
       "71533  998231581612122         5686628      F 2016-05-11 13:49:20   \n",
       "72362    3787481966821         5655637      M 2016-05-04 06:50:57   \n",
       "\n",
       "      appointment_day  age  neighbourhood  scholarship  hypertension  \\\n",
       "27033      2016-05-09   38    RESISTÊNCIA            0             0   \n",
       "55226      2016-05-17   19  SANTO ANTÔNIO            0             0   \n",
       "64175      2016-05-04   22     CONSOLAÇÃO            0             0   \n",
       "71533      2016-05-05   81  SANTO ANTÔNIO            0             0   \n",
       "72362      2016-05-03    7     TABUAZEIRO            0             0   \n",
       "\n",
       "       diabetes  alcoholism  handicap  sms_received no_show  \\\n",
       "27033         0           0         1             0     Yes   \n",
       "55226         0           0         1             0     Yes   \n",
       "64175         0           0         0             0     Yes   \n",
       "71533         0           0         0             0     Yes   \n",
       "72362         0           0         0             0     Yes   \n",
       "\n",
       "       days_to_appointment  \n",
       "27033                   -1  \n",
       "55226                   -1  \n",
       "64175                   -1  \n",
       "71533                   -6  \n",
       "72362                   -1  "
      ]
     },
     "execution_count": 13,
     "metadata": {},
     "output_type": "execute_result"
    }
   ],
   "source": [
    "df_noshow.query(\"days_to_appointment < 0\").head(20)"
   ]
  },
  {
   "cell_type": "markdown",
   "id": "f3aab063",
   "metadata": {},
   "source": [
    "Here is not necessarily a conclusion, but a remark that appointments made to a past day have 100% of no show. \n",
    "Despite this be impossible to return in time, it is not possible to confirm whether this was a mistake or it was intentionally input into the dataset. In order to preserve the quality of the data to further analysis, these records will be dropped from the dataset."
   ]
  },
  {
   "cell_type": "markdown",
   "id": "783473d4",
   "metadata": {},
   "source": [
    "### Creating new columns to help in the further analysis"
   ]
  },
  {
   "cell_type": "code",
   "execution_count": 14,
   "id": "f1feddd8",
   "metadata": {},
   "outputs": [],
   "source": [
    "df_noshow['scheduled_weekday'] = df_noshow['scheduled_day'].dt.day_name() # column to get the day of the week   \n",
    "df_noshow['appointment_weekday'] = df_noshow['appointment_day'].dt.day_name() #  column to get the day of the week "
   ]
  },
  {
   "cell_type": "code",
   "execution_count": 15,
   "id": "242c81b1",
   "metadata": {
    "scrolled": true
   },
   "outputs": [
    {
     "data": {
      "text/html": [
       "<div>\n",
       "<style scoped>\n",
       "    .dataframe tbody tr th:only-of-type {\n",
       "        vertical-align: middle;\n",
       "    }\n",
       "\n",
       "    .dataframe tbody tr th {\n",
       "        vertical-align: top;\n",
       "    }\n",
       "\n",
       "    .dataframe thead th {\n",
       "        text-align: right;\n",
       "    }\n",
       "</style>\n",
       "<table border=\"1\" class=\"dataframe\">\n",
       "  <thead>\n",
       "    <tr style=\"text-align: right;\">\n",
       "      <th></th>\n",
       "      <th>patient_id</th>\n",
       "      <th>appointment_id</th>\n",
       "      <th>gender</th>\n",
       "      <th>scheduled_day</th>\n",
       "      <th>appointment_day</th>\n",
       "      <th>age</th>\n",
       "      <th>neighbourhood</th>\n",
       "      <th>scholarship</th>\n",
       "      <th>hypertension</th>\n",
       "      <th>diabetes</th>\n",
       "      <th>alcoholism</th>\n",
       "      <th>handicap</th>\n",
       "      <th>sms_received</th>\n",
       "      <th>no_show</th>\n",
       "      <th>days_to_appointment</th>\n",
       "      <th>scheduled_weekday</th>\n",
       "      <th>appointment_weekday</th>\n",
       "    </tr>\n",
       "  </thead>\n",
       "  <tbody>\n",
       "    <tr>\n",
       "      <th>110522</th>\n",
       "      <td>2572134369293</td>\n",
       "      <td>5651768</td>\n",
       "      <td>F</td>\n",
       "      <td>2016-05-03 09:15:35</td>\n",
       "      <td>2016-06-07</td>\n",
       "      <td>56</td>\n",
       "      <td>MARIA ORTIZ</td>\n",
       "      <td>0</td>\n",
       "      <td>0</td>\n",
       "      <td>0</td>\n",
       "      <td>0</td>\n",
       "      <td>0</td>\n",
       "      <td>1</td>\n",
       "      <td>No</td>\n",
       "      <td>35</td>\n",
       "      <td>Tuesday</td>\n",
       "      <td>Tuesday</td>\n",
       "    </tr>\n",
       "    <tr>\n",
       "      <th>110523</th>\n",
       "      <td>3596266328735</td>\n",
       "      <td>5650093</td>\n",
       "      <td>F</td>\n",
       "      <td>2016-05-03 07:27:33</td>\n",
       "      <td>2016-06-07</td>\n",
       "      <td>51</td>\n",
       "      <td>MARIA ORTIZ</td>\n",
       "      <td>0</td>\n",
       "      <td>0</td>\n",
       "      <td>0</td>\n",
       "      <td>0</td>\n",
       "      <td>0</td>\n",
       "      <td>1</td>\n",
       "      <td>No</td>\n",
       "      <td>35</td>\n",
       "      <td>Tuesday</td>\n",
       "      <td>Tuesday</td>\n",
       "    </tr>\n",
       "    <tr>\n",
       "      <th>110524</th>\n",
       "      <td>15576631729893</td>\n",
       "      <td>5630692</td>\n",
       "      <td>F</td>\n",
       "      <td>2016-04-27 16:03:52</td>\n",
       "      <td>2016-06-07</td>\n",
       "      <td>21</td>\n",
       "      <td>MARIA ORTIZ</td>\n",
       "      <td>0</td>\n",
       "      <td>0</td>\n",
       "      <td>0</td>\n",
       "      <td>0</td>\n",
       "      <td>0</td>\n",
       "      <td>1</td>\n",
       "      <td>No</td>\n",
       "      <td>41</td>\n",
       "      <td>Wednesday</td>\n",
       "      <td>Tuesday</td>\n",
       "    </tr>\n",
       "    <tr>\n",
       "      <th>110525</th>\n",
       "      <td>92134931435557</td>\n",
       "      <td>5630323</td>\n",
       "      <td>F</td>\n",
       "      <td>2016-04-27 15:09:23</td>\n",
       "      <td>2016-06-07</td>\n",
       "      <td>38</td>\n",
       "      <td>MARIA ORTIZ</td>\n",
       "      <td>0</td>\n",
       "      <td>0</td>\n",
       "      <td>0</td>\n",
       "      <td>0</td>\n",
       "      <td>0</td>\n",
       "      <td>1</td>\n",
       "      <td>No</td>\n",
       "      <td>41</td>\n",
       "      <td>Wednesday</td>\n",
       "      <td>Tuesday</td>\n",
       "    </tr>\n",
       "    <tr>\n",
       "      <th>110526</th>\n",
       "      <td>377511518121127</td>\n",
       "      <td>5629448</td>\n",
       "      <td>F</td>\n",
       "      <td>2016-04-27 13:30:56</td>\n",
       "      <td>2016-06-07</td>\n",
       "      <td>54</td>\n",
       "      <td>MARIA ORTIZ</td>\n",
       "      <td>0</td>\n",
       "      <td>0</td>\n",
       "      <td>0</td>\n",
       "      <td>0</td>\n",
       "      <td>0</td>\n",
       "      <td>1</td>\n",
       "      <td>No</td>\n",
       "      <td>41</td>\n",
       "      <td>Wednesday</td>\n",
       "      <td>Tuesday</td>\n",
       "    </tr>\n",
       "  </tbody>\n",
       "</table>\n",
       "</div>"
      ],
      "text/plain": [
       "             patient_id  appointment_id gender       scheduled_day  \\\n",
       "110522    2572134369293         5651768      F 2016-05-03 09:15:35   \n",
       "110523    3596266328735         5650093      F 2016-05-03 07:27:33   \n",
       "110524   15576631729893         5630692      F 2016-04-27 16:03:52   \n",
       "110525   92134931435557         5630323      F 2016-04-27 15:09:23   \n",
       "110526  377511518121127         5629448      F 2016-04-27 13:30:56   \n",
       "\n",
       "       appointment_day  age neighbourhood  scholarship  hypertension  \\\n",
       "110522      2016-06-07   56   MARIA ORTIZ            0             0   \n",
       "110523      2016-06-07   51   MARIA ORTIZ            0             0   \n",
       "110524      2016-06-07   21   MARIA ORTIZ            0             0   \n",
       "110525      2016-06-07   38   MARIA ORTIZ            0             0   \n",
       "110526      2016-06-07   54   MARIA ORTIZ            0             0   \n",
       "\n",
       "        diabetes  alcoholism  handicap  sms_received no_show  \\\n",
       "110522         0           0         0             1      No   \n",
       "110523         0           0         0             1      No   \n",
       "110524         0           0         0             1      No   \n",
       "110525         0           0         0             1      No   \n",
       "110526         0           0         0             1      No   \n",
       "\n",
       "        days_to_appointment scheduled_weekday appointment_weekday  \n",
       "110522                   35           Tuesday             Tuesday  \n",
       "110523                   35           Tuesday             Tuesday  \n",
       "110524                   41         Wednesday             Tuesday  \n",
       "110525                   41         Wednesday             Tuesday  \n",
       "110526                   41         Wednesday             Tuesday  "
      ]
     },
     "execution_count": 15,
     "metadata": {},
     "output_type": "execute_result"
    }
   ],
   "source": [
    "df_noshow.tail()"
   ]
  },
  {
   "cell_type": "code",
   "execution_count": 16,
   "id": "f860971c",
   "metadata": {},
   "outputs": [
    {
     "data": {
      "text/plain": [
       "0"
      ]
     },
     "execution_count": 16,
     "metadata": {},
     "output_type": "execute_result"
    }
   ],
   "source": [
    "# Checking duplicated values\n",
    "sum(df_noshow.duplicated())"
   ]
  },
  {
   "cell_type": "markdown",
   "id": "d1155d5c",
   "metadata": {},
   "source": [
    "#### Checking the dataset content"
   ]
  },
  {
   "cell_type": "code",
   "execution_count": 17,
   "id": "4d963fe6",
   "metadata": {},
   "outputs": [
    {
     "name": "stdout",
     "output_type": "stream",
     "text": [
      "gender ==> ['F' 'M'] size ==> 2 \n",
      "\n",
      "neighbourhood ==> ['JARDIM DA PENHA' 'MATA DA PRAIA' 'PONTAL DE CAMBURI' 'REPÚBLICA'\n",
      " 'GOIABEIRAS' 'ANDORINHAS' 'CONQUISTA' 'NOVA PALESTINA' 'DA PENHA'\n",
      " 'TABUAZEIRO' 'BENTO FERREIRA' 'SÃO PEDRO' 'SANTA MARTHA' 'SÃO CRISTÓVÃO'\n",
      " 'MARUÍPE' 'GRANDE VITÓRIA' 'SÃO BENEDITO' 'ILHA DAS CAIEIRAS'\n",
      " 'SANTO ANDRÉ' 'SOLON BORGES' 'BONFIM' 'JARDIM CAMBURI' 'MARIA ORTIZ'\n",
      " 'JABOUR' 'ANTÔNIO HONÓRIO' 'RESISTÊNCIA' 'ILHA DE SANTA MARIA'\n",
      " 'JUCUTUQUARA' 'MONTE BELO' 'MÁRIO CYPRESTE' 'SANTO ANTÔNIO' 'BELA VISTA'\n",
      " 'PRAIA DO SUÁ' 'SANTA HELENA' 'ITARARÉ' 'INHANGUETÁ' 'UNIVERSITÁRIO'\n",
      " 'SÃO JOSÉ' 'REDENÇÃO' 'SANTA CLARA' 'CENTRO' 'PARQUE MOSCOSO'\n",
      " 'DO MOSCOSO' 'SANTOS DUMONT' 'CARATOÍRA' 'ARIOVALDO FAVALESSA'\n",
      " 'ILHA DO FRADE' 'GURIGICA' 'JOANA D´ARC' 'CONSOLAÇÃO' 'PRAIA DO CANTO'\n",
      " 'BOA VISTA' 'MORADA DE CAMBURI' 'SANTA LUÍZA' 'SANTA LÚCIA'\n",
      " 'BARRO VERMELHO' 'ESTRELINHA' 'FORTE SÃO JOÃO' 'FONTE GRANDE'\n",
      " 'ENSEADA DO SUÁ' 'SANTOS REIS' 'PIEDADE' 'JESUS DE NAZARETH'\n",
      " 'SANTA TEREZA' 'CRUZAMENTO' 'ILHA DO PRÍNCIPE' 'ROMÃO' 'COMDUSA'\n",
      " 'SANTA CECÍLIA' 'VILA RUBIM' 'DE LOURDES' 'DO QUADRO' 'DO CABRAL' 'HORTO'\n",
      " 'SEGURANÇA DO LAR' 'ILHA DO BOI' 'FRADINHOS' 'NAZARETH' 'AEROPORTO'\n",
      " 'ILHAS OCEÂNICAS DE TRINDADE' 'PARQUE INDUSTRIAL'] size ==> 81 \n",
      "\n",
      "no_show ==> ['No' 'Yes'] size ==> 2 \n",
      "\n",
      "scheduled_weekday ==> ['Friday' 'Wednesday' 'Tuesday' 'Thursday' 'Monday' 'Saturday'] size ==> 6 \n",
      "\n",
      "appointment_weekday ==> ['Friday' 'Tuesday' 'Monday' 'Wednesday' 'Thursday' 'Saturday'] size ==> 6 \n",
      "\n"
     ]
    }
   ],
   "source": [
    "# Let's start checking the content of the classes columns\n",
    "class_cols = df_noshow.select_dtypes(exclude = [np.number, np.datetime64]).columns\n",
    "\n",
    "for i, j in enumerate(class_cols):\n",
    "    l = len(df_noshow[j].unique())\n",
    "    print(f\"{j} ==>\", df_noshow[j].unique(), f\"size ==> {l}\" ,\"\\n\")\n"
   ]
  },
  {
   "cell_type": "markdown",
   "id": "051d689f",
   "metadata": {},
   "source": [
    "Nothing strange so far. As expected, only two values for \"gender\" and \"no_show\". We know in advance that the healthcare facilities don't work on sundays."
   ]
  },
  {
   "cell_type": "code",
   "execution_count": 18,
   "id": "232fc5d4",
   "metadata": {},
   "outputs": [
    {
     "data": {
      "text/plain": [
       "0"
      ]
     },
     "execution_count": 18,
     "metadata": {},
     "output_type": "execute_result"
    }
   ],
   "source": [
    "#Checking for duplicated\n",
    "df_noshow.duplicated().sum()"
   ]
  },
  {
   "cell_type": "markdown",
   "id": "d3b39a16",
   "metadata": {},
   "source": [
    "No duplicated values. We can skip this cleaning process."
   ]
  },
  {
   "cell_type": "code",
   "execution_count": 19,
   "id": "f0ee3e43",
   "metadata": {},
   "outputs": [
    {
     "data": {
      "text/plain": [
       "patient_id             False\n",
       "appointment_id         False\n",
       "gender                 False\n",
       "scheduled_day          False\n",
       "appointment_day        False\n",
       "age                    False\n",
       "neighbourhood          False\n",
       "scholarship            False\n",
       "hypertension           False\n",
       "diabetes               False\n",
       "alcoholism             False\n",
       "handicap               False\n",
       "sms_received           False\n",
       "no_show                False\n",
       "days_to_appointment    False\n",
       "scheduled_weekday      False\n",
       "appointment_weekday    False\n",
       "dtype: bool"
      ]
     },
     "execution_count": 19,
     "metadata": {},
     "output_type": "execute_result"
    }
   ],
   "source": [
    "# Checking for null values\n",
    "df_noshow.isna().any()"
   ]
  },
  {
   "cell_type": "markdown",
   "id": "e8352797",
   "metadata": {},
   "source": [
    "Also a good quality sign. Moving on"
   ]
  },
  {
   "cell_type": "code",
   "execution_count": 20,
   "id": "df4980c3",
   "metadata": {},
   "outputs": [
    {
     "name": "stdout",
     "output_type": "stream",
     "text": [
      "scheduled_day ==> Min Date: 2015-11-10 07:13:56,  Max Date: 2016-06-08 20:07:23,  Distinct dates: 103549 \n",
      "\n",
      "appointment_day ==> Min Date: 2016-04-29 00:00:00,  Max Date: 2016-06-08 00:00:00,  Distinct dates: 27 \n",
      "\n"
     ]
    }
   ],
   "source": [
    "# Let's guarantee that the date columns are not bringing impossible dates, like in the past century or in a far away future\n",
    "\n",
    "date_cols = df_noshow.select_dtypes(include = [np.datetime64]).columns\n",
    "\n",
    "for i, j in enumerate(date_cols):\n",
    "    ma = max(df_noshow[j])\n",
    "    mi = min(df_noshow[j])\n",
    "    un = df_noshow[j].nunique()\n",
    "    print(f\"{j} ==>\", f\"Min Date: {mi}, \", f\"Max Date: {ma}, \", f\"Distinct dates: {un}\" ,\"\\n\")\n",
    "\n"
   ]
  },
  {
   "cell_type": "markdown",
   "id": "d14298b9",
   "metadata": {},
   "source": [
    "No impossible dates."
   ]
  },
  {
   "cell_type": "code",
   "execution_count": 21,
   "id": "ced618d4",
   "metadata": {},
   "outputs": [
    {
     "data": {
      "text/html": [
       "<div>\n",
       "<style scoped>\n",
       "    .dataframe tbody tr th:only-of-type {\n",
       "        vertical-align: middle;\n",
       "    }\n",
       "\n",
       "    .dataframe tbody tr th {\n",
       "        vertical-align: top;\n",
       "    }\n",
       "\n",
       "    .dataframe thead th {\n",
       "        text-align: right;\n",
       "    }\n",
       "</style>\n",
       "<table border=\"1\" class=\"dataframe\">\n",
       "  <thead>\n",
       "    <tr style=\"text-align: right;\">\n",
       "      <th></th>\n",
       "      <th>patient_id</th>\n",
       "      <th>appointment_id</th>\n",
       "      <th>age</th>\n",
       "      <th>scholarship</th>\n",
       "      <th>hypertension</th>\n",
       "      <th>diabetes</th>\n",
       "      <th>alcoholism</th>\n",
       "      <th>handicap</th>\n",
       "      <th>sms_received</th>\n",
       "      <th>days_to_appointment</th>\n",
       "    </tr>\n",
       "  </thead>\n",
       "  <tbody>\n",
       "    <tr>\n",
       "      <th>count</th>\n",
       "      <td>1.105270e+05</td>\n",
       "      <td>1.105270e+05</td>\n",
       "      <td>110527.000000</td>\n",
       "      <td>110527.000000</td>\n",
       "      <td>110527.000000</td>\n",
       "      <td>110527.000000</td>\n",
       "      <td>110527.000000</td>\n",
       "      <td>110527.000000</td>\n",
       "      <td>110527.000000</td>\n",
       "      <td>110527.000000</td>\n",
       "    </tr>\n",
       "    <tr>\n",
       "      <th>mean</th>\n",
       "      <td>1.474963e+14</td>\n",
       "      <td>5.675305e+06</td>\n",
       "      <td>37.088874</td>\n",
       "      <td>0.098266</td>\n",
       "      <td>0.197246</td>\n",
       "      <td>0.071865</td>\n",
       "      <td>0.030400</td>\n",
       "      <td>0.020276</td>\n",
       "      <td>0.321026</td>\n",
       "      <td>10.183702</td>\n",
       "    </tr>\n",
       "    <tr>\n",
       "      <th>std</th>\n",
       "      <td>2.560949e+14</td>\n",
       "      <td>7.129575e+04</td>\n",
       "      <td>23.110205</td>\n",
       "      <td>0.297675</td>\n",
       "      <td>0.397921</td>\n",
       "      <td>0.258265</td>\n",
       "      <td>0.171686</td>\n",
       "      <td>0.140942</td>\n",
       "      <td>0.466873</td>\n",
       "      <td>15.254996</td>\n",
       "    </tr>\n",
       "    <tr>\n",
       "      <th>min</th>\n",
       "      <td>3.921700e+04</td>\n",
       "      <td>5.030230e+06</td>\n",
       "      <td>-1.000000</td>\n",
       "      <td>0.000000</td>\n",
       "      <td>0.000000</td>\n",
       "      <td>0.000000</td>\n",
       "      <td>0.000000</td>\n",
       "      <td>0.000000</td>\n",
       "      <td>0.000000</td>\n",
       "      <td>-6.000000</td>\n",
       "    </tr>\n",
       "    <tr>\n",
       "      <th>25%</th>\n",
       "      <td>4.172614e+12</td>\n",
       "      <td>5.640286e+06</td>\n",
       "      <td>18.000000</td>\n",
       "      <td>0.000000</td>\n",
       "      <td>0.000000</td>\n",
       "      <td>0.000000</td>\n",
       "      <td>0.000000</td>\n",
       "      <td>0.000000</td>\n",
       "      <td>0.000000</td>\n",
       "      <td>0.000000</td>\n",
       "    </tr>\n",
       "    <tr>\n",
       "      <th>50%</th>\n",
       "      <td>3.173184e+13</td>\n",
       "      <td>5.680573e+06</td>\n",
       "      <td>37.000000</td>\n",
       "      <td>0.000000</td>\n",
       "      <td>0.000000</td>\n",
       "      <td>0.000000</td>\n",
       "      <td>0.000000</td>\n",
       "      <td>0.000000</td>\n",
       "      <td>0.000000</td>\n",
       "      <td>4.000000</td>\n",
       "    </tr>\n",
       "    <tr>\n",
       "      <th>75%</th>\n",
       "      <td>9.439172e+13</td>\n",
       "      <td>5.725524e+06</td>\n",
       "      <td>55.000000</td>\n",
       "      <td>0.000000</td>\n",
       "      <td>0.000000</td>\n",
       "      <td>0.000000</td>\n",
       "      <td>0.000000</td>\n",
       "      <td>0.000000</td>\n",
       "      <td>1.000000</td>\n",
       "      <td>15.000000</td>\n",
       "    </tr>\n",
       "    <tr>\n",
       "      <th>max</th>\n",
       "      <td>9.999816e+14</td>\n",
       "      <td>5.790484e+06</td>\n",
       "      <td>115.000000</td>\n",
       "      <td>1.000000</td>\n",
       "      <td>1.000000</td>\n",
       "      <td>1.000000</td>\n",
       "      <td>1.000000</td>\n",
       "      <td>1.000000</td>\n",
       "      <td>1.000000</td>\n",
       "      <td>179.000000</td>\n",
       "    </tr>\n",
       "  </tbody>\n",
       "</table>\n",
       "</div>"
      ],
      "text/plain": [
       "         patient_id  appointment_id            age    scholarship  \\\n",
       "count  1.105270e+05    1.105270e+05  110527.000000  110527.000000   \n",
       "mean   1.474963e+14    5.675305e+06      37.088874       0.098266   \n",
       "std    2.560949e+14    7.129575e+04      23.110205       0.297675   \n",
       "min    3.921700e+04    5.030230e+06      -1.000000       0.000000   \n",
       "25%    4.172614e+12    5.640286e+06      18.000000       0.000000   \n",
       "50%    3.173184e+13    5.680573e+06      37.000000       0.000000   \n",
       "75%    9.439172e+13    5.725524e+06      55.000000       0.000000   \n",
       "max    9.999816e+14    5.790484e+06     115.000000       1.000000   \n",
       "\n",
       "        hypertension       diabetes     alcoholism       handicap  \\\n",
       "count  110527.000000  110527.000000  110527.000000  110527.000000   \n",
       "mean        0.197246       0.071865       0.030400       0.020276   \n",
       "std         0.397921       0.258265       0.171686       0.140942   \n",
       "min         0.000000       0.000000       0.000000       0.000000   \n",
       "25%         0.000000       0.000000       0.000000       0.000000   \n",
       "50%         0.000000       0.000000       0.000000       0.000000   \n",
       "75%         0.000000       0.000000       0.000000       0.000000   \n",
       "max         1.000000       1.000000       1.000000       1.000000   \n",
       "\n",
       "        sms_received  days_to_appointment  \n",
       "count  110527.000000        110527.000000  \n",
       "mean        0.321026            10.183702  \n",
       "std         0.466873            15.254996  \n",
       "min         0.000000            -6.000000  \n",
       "25%         0.000000             0.000000  \n",
       "50%         0.000000             4.000000  \n",
       "75%         1.000000            15.000000  \n",
       "max         1.000000           179.000000  "
      ]
     },
     "execution_count": 21,
     "metadata": {},
     "output_type": "execute_result"
    }
   ],
   "source": [
    "# Checking the numeric values\n",
    "df_noshow.describe()"
   ]
  },
  {
   "cell_type": "markdown",
   "id": "eb5bb230",
   "metadata": {},
   "source": [
    "We see that there is an impossible age. This will be corrected in the next step"
   ]
  },
  {
   "cell_type": "markdown",
   "id": "52a2e69f",
   "metadata": {},
   "source": [
    "<a id='clean'></a>\n",
    "# Data Cleaning"
   ]
  },
  {
   "cell_type": "code",
   "execution_count": 22,
   "id": "519c2564",
   "metadata": {},
   "outputs": [
    {
     "data": {
      "text/html": [
       "<div>\n",
       "<style scoped>\n",
       "    .dataframe tbody tr th:only-of-type {\n",
       "        vertical-align: middle;\n",
       "    }\n",
       "\n",
       "    .dataframe tbody tr th {\n",
       "        vertical-align: top;\n",
       "    }\n",
       "\n",
       "    .dataframe thead th {\n",
       "        text-align: right;\n",
       "    }\n",
       "</style>\n",
       "<table border=\"1\" class=\"dataframe\">\n",
       "  <thead>\n",
       "    <tr style=\"text-align: right;\">\n",
       "      <th></th>\n",
       "      <th>patient_id</th>\n",
       "      <th>appointment_id</th>\n",
       "      <th>age</th>\n",
       "      <th>scholarship</th>\n",
       "      <th>hypertension</th>\n",
       "      <th>diabetes</th>\n",
       "      <th>alcoholism</th>\n",
       "      <th>handicap</th>\n",
       "      <th>sms_received</th>\n",
       "      <th>days_to_appointment</th>\n",
       "    </tr>\n",
       "  </thead>\n",
       "  <tbody>\n",
       "    <tr>\n",
       "      <th>count</th>\n",
       "      <td>1.105210e+05</td>\n",
       "      <td>1.105210e+05</td>\n",
       "      <td>110521.000000</td>\n",
       "      <td>110521.000000</td>\n",
       "      <td>110521.000000</td>\n",
       "      <td>110521.000000</td>\n",
       "      <td>110521.000000</td>\n",
       "      <td>110521.000000</td>\n",
       "      <td>110521.000000</td>\n",
       "      <td>110521.000000</td>\n",
       "    </tr>\n",
       "    <tr>\n",
       "      <th>mean</th>\n",
       "      <td>1.474906e+14</td>\n",
       "      <td>5.675304e+06</td>\n",
       "      <td>37.089386</td>\n",
       "      <td>0.098271</td>\n",
       "      <td>0.197257</td>\n",
       "      <td>0.071869</td>\n",
       "      <td>0.030401</td>\n",
       "      <td>0.020259</td>\n",
       "      <td>0.321043</td>\n",
       "      <td>10.184345</td>\n",
       "    </tr>\n",
       "    <tr>\n",
       "      <th>std</th>\n",
       "      <td>2.560860e+14</td>\n",
       "      <td>7.129691e+04</td>\n",
       "      <td>23.109885</td>\n",
       "      <td>0.297682</td>\n",
       "      <td>0.397929</td>\n",
       "      <td>0.258272</td>\n",
       "      <td>0.171690</td>\n",
       "      <td>0.140884</td>\n",
       "      <td>0.466879</td>\n",
       "      <td>15.255153</td>\n",
       "    </tr>\n",
       "    <tr>\n",
       "      <th>min</th>\n",
       "      <td>3.921700e+04</td>\n",
       "      <td>5.030230e+06</td>\n",
       "      <td>0.000000</td>\n",
       "      <td>0.000000</td>\n",
       "      <td>0.000000</td>\n",
       "      <td>0.000000</td>\n",
       "      <td>0.000000</td>\n",
       "      <td>0.000000</td>\n",
       "      <td>0.000000</td>\n",
       "      <td>0.000000</td>\n",
       "    </tr>\n",
       "    <tr>\n",
       "      <th>25%</th>\n",
       "      <td>4.172457e+12</td>\n",
       "      <td>5.640284e+06</td>\n",
       "      <td>18.000000</td>\n",
       "      <td>0.000000</td>\n",
       "      <td>0.000000</td>\n",
       "      <td>0.000000</td>\n",
       "      <td>0.000000</td>\n",
       "      <td>0.000000</td>\n",
       "      <td>0.000000</td>\n",
       "      <td>0.000000</td>\n",
       "    </tr>\n",
       "    <tr>\n",
       "      <th>50%</th>\n",
       "      <td>3.173185e+13</td>\n",
       "      <td>5.680573e+06</td>\n",
       "      <td>37.000000</td>\n",
       "      <td>0.000000</td>\n",
       "      <td>0.000000</td>\n",
       "      <td>0.000000</td>\n",
       "      <td>0.000000</td>\n",
       "      <td>0.000000</td>\n",
       "      <td>0.000000</td>\n",
       "      <td>4.000000</td>\n",
       "    </tr>\n",
       "    <tr>\n",
       "      <th>75%</th>\n",
       "      <td>9.438963e+13</td>\n",
       "      <td>5.725524e+06</td>\n",
       "      <td>55.000000</td>\n",
       "      <td>0.000000</td>\n",
       "      <td>0.000000</td>\n",
       "      <td>0.000000</td>\n",
       "      <td>0.000000</td>\n",
       "      <td>0.000000</td>\n",
       "      <td>1.000000</td>\n",
       "      <td>15.000000</td>\n",
       "    </tr>\n",
       "    <tr>\n",
       "      <th>max</th>\n",
       "      <td>9.999816e+14</td>\n",
       "      <td>5.790484e+06</td>\n",
       "      <td>115.000000</td>\n",
       "      <td>1.000000</td>\n",
       "      <td>1.000000</td>\n",
       "      <td>1.000000</td>\n",
       "      <td>1.000000</td>\n",
       "      <td>1.000000</td>\n",
       "      <td>1.000000</td>\n",
       "      <td>179.000000</td>\n",
       "    </tr>\n",
       "  </tbody>\n",
       "</table>\n",
       "</div>"
      ],
      "text/plain": [
       "         patient_id  appointment_id            age    scholarship  \\\n",
       "count  1.105210e+05    1.105210e+05  110521.000000  110521.000000   \n",
       "mean   1.474906e+14    5.675304e+06      37.089386       0.098271   \n",
       "std    2.560860e+14    7.129691e+04      23.109885       0.297682   \n",
       "min    3.921700e+04    5.030230e+06       0.000000       0.000000   \n",
       "25%    4.172457e+12    5.640284e+06      18.000000       0.000000   \n",
       "50%    3.173185e+13    5.680573e+06      37.000000       0.000000   \n",
       "75%    9.438963e+13    5.725524e+06      55.000000       0.000000   \n",
       "max    9.999816e+14    5.790484e+06     115.000000       1.000000   \n",
       "\n",
       "        hypertension       diabetes     alcoholism       handicap  \\\n",
       "count  110521.000000  110521.000000  110521.000000  110521.000000   \n",
       "mean        0.197257       0.071869       0.030401       0.020259   \n",
       "std         0.397929       0.258272       0.171690       0.140884   \n",
       "min         0.000000       0.000000       0.000000       0.000000   \n",
       "25%         0.000000       0.000000       0.000000       0.000000   \n",
       "50%         0.000000       0.000000       0.000000       0.000000   \n",
       "75%         0.000000       0.000000       0.000000       0.000000   \n",
       "max         1.000000       1.000000       1.000000       1.000000   \n",
       "\n",
       "        sms_received  days_to_appointment  \n",
       "count  110521.000000        110521.000000  \n",
       "mean        0.321043            10.184345  \n",
       "std         0.466879            15.255153  \n",
       "min         0.000000             0.000000  \n",
       "25%         0.000000             0.000000  \n",
       "50%         0.000000             4.000000  \n",
       "75%         1.000000            15.000000  \n",
       "max         1.000000           179.000000  "
      ]
     },
     "execution_count": 22,
     "metadata": {},
     "output_type": "execute_result"
    }
   ],
   "source": [
    "# Discarding Negative values for age\n",
    "df_noshow_clnd = df_noshow.loc[df_noshow['age']>= 0].copy()\n",
    "# Removing the appointment in the past\n",
    "df_noshow_clnd = df_noshow_clnd.query(\"days_to_appointment >= 0\")\n",
    "df_noshow_clnd.reset_index(drop = True, inplace = True)\n",
    "df_noshow_clnd.describe()"
   ]
  },
  {
   "cell_type": "markdown",
   "id": "c19d9161",
   "metadata": {},
   "source": [
    "##### Let's create a group of ages. This field will be useful in the sequence"
   ]
  },
  {
   "cell_type": "code",
   "execution_count": 23,
   "id": "f2c686d7",
   "metadata": {},
   "outputs": [],
   "source": [
    "ages = df_noshow_clnd.age.unique()\n",
    "ages = np.positive(ages)\n",
    "ages = ages[ages>=0]\n",
    "ages.sort()"
   ]
  },
  {
   "cell_type": "code",
   "execution_count": 24,
   "id": "6b95bd51",
   "metadata": {},
   "outputs": [
    {
     "name": "stdout",
     "output_type": "stream",
     "text": [
      "labels ==>  ['0-10', '11-20', '21-30', '31-40', '41-50', '51-60', '61-70', '71-80', '81-90', '91-100', '101-110', '111-120']\n",
      "bins ==>  [0, 10, 20, 30, 40, 50, 60, 70, 80, 90, 100, 110, 120]\n"
     ]
    }
   ],
   "source": [
    "age_labels = []\n",
    "age_bins = []\n",
    "\n",
    "\n",
    "# Checking the extremes\n",
    "min_bin = min(ages)\n",
    "\n",
    "while min_bin%10 !=0:\n",
    "    min_bin -= 1\n",
    "\n",
    "max_bin = max(ages)\n",
    "\n",
    "while max_bin%10 != 0:\n",
    "    max_bin+=1   \n",
    "    \n",
    "#Creating the bin list\n",
    "\n",
    "for i in range(min_bin,max_bin+1,10):\n",
    "    age_bins.append(i)\n",
    "    \n",
    " \n",
    "\n",
    "while min_bin < max(ages):\n",
    "    \n",
    "    if min_bin == 0:\n",
    "        c = str(min_bin)+'-'+str(min_bin+10)\n",
    "    else:\n",
    "        c = str(min_bin+1)+'-'+str(min_bin+10)\n",
    "    age_labels.append(c)\n",
    "    min_bin +=10\n",
    "print('labels ==> ', age_labels)\n",
    "print('bins ==> ', age_bins)"
   ]
  },
  {
   "cell_type": "code",
   "execution_count": 25,
   "id": "fe6e6e65",
   "metadata": {},
   "outputs": [],
   "source": [
    "df_noshow_clnd['agegroup'] = pd.cut(df_noshow_clnd['age'], age_bins, labels = age_labels)"
   ]
  },
  {
   "cell_type": "code",
   "execution_count": 26,
   "id": "6ad694cb",
   "metadata": {},
   "outputs": [
    {
     "data": {
      "text/plain": [
       "(110521, 18)"
      ]
     },
     "execution_count": 26,
     "metadata": {},
     "output_type": "execute_result"
    }
   ],
   "source": [
    "df_noshow_clnd.shape"
   ]
  },
  {
   "cell_type": "markdown",
   "id": "3daa2c42",
   "metadata": {},
   "source": [
    "<a id='eda'></a>\n",
    "# Exploratory Data Analysis"
   ]
  },
  {
   "cell_type": "code",
   "execution_count": 27,
   "id": "9c906533",
   "metadata": {},
   "outputs": [
    {
     "data": {
      "text/plain": [
       "0.2018982817745044"
      ]
     },
     "execution_count": 27,
     "metadata": {},
     "output_type": "execute_result"
    }
   ],
   "source": [
    "# Checking the proportion between the show and no show cases\n",
    "no_show_proportion= df_noshow_clnd.query(\"no_show == 'Yes'\").shape[0]/df_noshow_clnd.shape[0]\n",
    "no_show_proportion"
   ]
  },
  {
   "cell_type": "markdown",
   "id": "d85fea39",
   "metadata": {},
   "source": [
    "### Dividing the database in to compare\n",
    "\n",
    "Since no show status is the target of this study, let's first divide the database by this class and compare the results "
   ]
  },
  {
   "cell_type": "code",
   "execution_count": 28,
   "id": "80130d1d",
   "metadata": {},
   "outputs": [
    {
     "data": {
      "image/png": "[encoded data removed]",
      "text/plain": [
       "<Figure size 1440x1440 with 10 Axes>"
      ]
     },
     "metadata": {
      "needs_background": "light"
     },
     "output_type": "display_data"
    }
   ],
   "source": [
    "df_showed = df_noshow_clnd.query(\"no_show == 'No'\").copy()\n",
    "df_showed[\"no_show\"].replace(('Yes', 'No'), (\"not showed\",\"showed\"), inplace = True)\n",
    "df_showed.reset_index(drop = True, inplace = True)\n",
    "df_not_showed = df_noshow_clnd.query(\"no_show == 'Yes'\").copy()\n",
    "df_not_showed[\"no_show\"].replace(('Yes', 'No'), (\"not showed\",\"showed\"), inplace = True)\n",
    "df_not_showed.reset_index(drop = True, inplace = True)\n",
    "\n",
    "hist_title = \"Proportional Comparison between showed and not showed groups\"\n",
    "hist_comp_prop(group = \"no_show\" ,df1 = df_showed,df2 = df_not_showed, title = hist_title)"
   ]
  },
  {
   "cell_type": "markdown",
   "id": "a0fdf7bd",
   "metadata": {},
   "source": [
    "The distribution in this case is almost even for all the measures.\n",
    "It's very hard to clearly find a measure that can define whether the patient will show or not.\n",
    "However, it is possibible to notice some trends, for example the age:\n",
    "\n",
    "According to the histogram, despite all the groups share almost the same frequency, the group of age between 18-40 years is more willing to not show to the appointment. This makes sense if you consider that at this age people are in the workforce and would need to request a license to go to the appointment at the working hours.\n"
   ]
  },
  {
   "cell_type": "code",
   "execution_count": 75,
   "id": "e28f4056",
   "metadata": {},
   "outputs": [
    {
     "data": {
      "image/png": "[encoded data removed]",
      "text/plain": [
       "<Figure size 720x360 with 2 Axes>"
      ]
     },
     "metadata": {
      "needs_background": "light"
     },
     "output_type": "display_data"
    }
   ],
   "source": [
    "class_plot(df_showed, df_not_showed, 'Showed', 'Not Showed', 'agegroup')\n",
    "# Adding the no_show proportion as reference bar to highlight the groups\n",
    "plt.axhline(no_show_proportion, color = 'gray');"
   ]
  },
  {
   "cell_type": "markdown",
   "id": "f805e77c",
   "metadata": {},
   "source": [
    "In average, the group that don't show is around 3 years older than the group that show. So this can be taken in consideration."
   ]
  },
  {
   "cell_type": "markdown",
   "id": "ebe1e2c7",
   "metadata": {},
   "source": [
    "People with comorbidity like hypertension, slightly tend to show, if compared to those that don't have a pre-condition."
   ]
  },
  {
   "cell_type": "code",
   "execution_count": 76,
   "id": "22f45bf9",
   "metadata": {},
   "outputs": [
    {
     "data": {
      "image/png": "[encoded data removed]",
      "text/plain": [
       "<Figure size 720x360 with 2 Axes>"
      ]
     },
     "metadata": {
      "needs_background": "light"
     },
     "output_type": "display_data"
    }
   ],
   "source": [
    "class_plot(df_showed, df_not_showed, 'Showed', 'Not Showed', 'hypertension')"
   ]
  },
  {
   "cell_type": "markdown",
   "id": "9754bcb3",
   "metadata": {},
   "source": [
    "Concerning the days before the appointment, people tend to not show when the appointment is above 20 days\n"
   ]
  },
  {
   "cell_type": "code",
   "execution_count": null,
   "id": "44c5293e",
   "metadata": {},
   "outputs": [],
   "source": [
    "# Turning No_show column values into boolean values\n",
    "df_noshow[\"No_show\"].replace(('Yes', 'No'), (1,0), inplace = True)\n",
    "df_noshow[\"No_show\"] = df_noshow[\"No_show\"].astype('bool')"
   ]
  },
  {
   "cell_type": "markdown",
   "id": "fe176c6e",
   "metadata": {},
   "source": [
    "<a id='conclusions'></a>\n",
    "# Conclusions"
   ]
  },
  {
   "cell_type": "markdown",
   "id": "f2da203d",
   "metadata": {},
   "source": [
    "Regarding the neighbourhood, there are 81 in total. Without knowing the distance to the patient's house or other factors such as availability of mass transportation system or whether this is a handicap friendly zone, it is not possible to conclude much about this feature.\n"
   ]
  },
  {
   "cell_type": "code",
   "execution_count": null,
   "id": "f127fa7d",
   "metadata": {},
   "outputs": [],
   "source": []
  }
 ],
 "metadata": {
  "kernelspec": {
   "display_name": "Python 3 (ipykernel)",
   "language": "python",
   "name": "python3"
  },
  "language_info": {
   "codemirror_mode": {
    "name": "ipython",
    "version": 3
   },
   "file_extension": ".py",
   "mimetype": "text/x-python",
   "name": "python",
   "nbconvert_exporter": "python",
   "pygments_lexer": "ipython3",
   "version": "3.7.9"
  }
 },
 "nbformat": 4,
 "nbformat_minor": 5
}
